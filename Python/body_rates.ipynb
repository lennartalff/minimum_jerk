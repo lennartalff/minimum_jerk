{
 "cells": [
  {
   "cell_type": "code",
   "execution_count": 1,
   "metadata": {},
   "outputs": [],
   "source": [
    "import sympy\n",
    "\n",
    "sympy.init_printing()"
   ]
  },
  {
   "cell_type": "code",
   "execution_count": 2,
   "metadata": {},
   "outputs": [],
   "source": [
    "rdd = sympy.MatrixSymbol('\\ddot{r}', 3, 1)\n",
    "rd = sympy.MatrixSymbol('\\dot{r}', 3, 1)\n",
    "m, c = sympy.symbols('m c')"
   ]
  },
  {
   "cell_type": "code",
   "execution_count": 3,
   "metadata": {},
   "outputs": [
    {
     "data": {
      "image/png": "[encoded data removed]",
      "text/latex": [
       "$\\displaystyle \\left(c \\dot{r}^{T} + m \\ddot{r}^{T}\\right) \\left(c \\dot{r} + m \\ddot{r}\\right)$"
      ],
      "text/plain": [
       "⎛         T             T⎞                         \n",
       "⎝c⋅\\dot{r}  + m⋅\\ddot{r} ⎠⋅(c⋅\\dot{r} + m⋅\\ddot{r})"
      ]
     },
     "execution_count": 3,
     "metadata": {},
     "output_type": "execute_result"
    }
   ],
   "source": [
    "norm = sympy.Transpose((rdd * m + c * rd)) * (rdd * m + c * rd)\n",
    "norm"
   ]
  },
  {
   "cell_type": "code",
   "execution_count": null,
   "metadata": {},
   "outputs": [],
   "source": []
  }
 ],
 "metadata": {
  "kernelspec": {
   "display_name": "Python 3.10.9 ('venv': venv)",
   "language": "python",
   "name": "python3"
  },
  "language_info": {
   "codemirror_mode": {
    "name": "ipython",
    "version": 3
   },
   "file_extension": ".py",
   "mimetype": "text/x-python",
   "name": "python",
   "nbconvert_exporter": "python",
   "pygments_lexer": "ipython3",
   "version": "3.10.9"
  },
  "orig_nbformat": 4,
  "vscode": {
   "interpreter": {
    "hash": "d429183472eae2f9bb5b90705e5d3e38210eb538aa62005b39018ca0d8a59bb2"
   }
  }
 },
 "nbformat": 4,
 "nbformat_minor": 2
}
